{
 "cells": [
  {
   "cell_type": "code",
   "execution_count": 13,
   "metadata": {},
   "outputs": [],
   "source": [
    "import math\n",
    "import re"
   ]
  },
  {
   "cell_type": "code",
   "execution_count": 2,
   "metadata": {},
   "outputs": [],
   "source": [
    "#calculating term frequency(tf)\n",
    "def calculate_tf(document,item):\n",
    "    tf = dict()\n",
    "    for term in set(document):\n",
    "        tf[term] = document.count(term)/len(document)\n",
    "    return tf[item]"
   ]
  },
  {
   "cell_type": "code",
   "execution_count": 3,
   "metadata": {},
   "outputs": [],
   "source": [
    "#calculating inverse document frequency(idf)\n",
    "def calculate_idf(corpus,item):\n",
    "    count = 0\n",
    "    for document in corpus:\n",
    "        if item in document:\n",
    "            count+=1\n",
    "    return math.log(len(corpus)/count)\n",
    "    "
   ]
  },
  {
   "cell_type": "code",
   "execution_count": 36,
   "metadata": {},
   "outputs": [
    {
     "name": "stdout",
     "output_type": "stream",
     "text": [
      "the rf*idf weight for item in second document is 0.05068313851352055\n"
     ]
    }
   ],
   "source": [
    "\n",
    "data = \"dog ate all the chicken and also some cookies.\\ncat got nothing to eat because the dog ate all the chicken.cat was very upset.\\ncat had to eat only some cookies\"\n",
    "corpus = [re.findall(r\"[\\w']+\", item) for item in data.split(\"\\n\")]\n",
    "weight = calculate_tf(corpus[1],\"cat\")*calculate_idf(corpus,\"cat\")\n",
    "print(f\"the rf*idf weight for item in second document is {weight}\")"
   ]
  }
 ],
 "metadata": {
  "kernelspec": {
   "display_name": "Python 3",
   "language": "python",
   "name": "python3"
  },
  "language_info": {
   "codemirror_mode": {
    "name": "ipython",
    "version": 3
   },
   "file_extension": ".py",
   "mimetype": "text/x-python",
   "name": "python",
   "nbconvert_exporter": "python",
   "pygments_lexer": "ipython3",
   "version": "3.6.5"
  }
 },
 "nbformat": 4,
 "nbformat_minor": 2
}
