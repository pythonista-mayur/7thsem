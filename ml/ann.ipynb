{
 "cells": [
  {
   "cell_type": "code",
   "execution_count": 1,
   "metadata": {},
   "outputs": [],
   "source": [
    "from matplotlib.image import imread\n",
    "from numpy import array,full,matmul,append,random\n",
    "from os import listdir as ls\n",
    "from regex import search\n",
    "from math import exp"
   ]
  },
  {
   "cell_type": "code",
   "execution_count": 2,
   "metadata": {},
   "outputs": [],
   "source": [
    "X_dataset = list()\n",
    "Y_dataset = list()\n",
    "for img in ls(\"./coil-20-proc/\"):\n",
    "\tim = imread(\"./coil-20-proc/\"+img)\n",
    "\tim = im.reshape(16384)\n",
    "\tim = append(im,-1)    \n",
    "\tX_dataset.append(im)\n",
    "\tresult = search('obj(.*?)_', img)\n",
    "\ts=full(20,-1)\n",
    "\ts[int(result[1])-1]=1\n",
    "\tY_dataset.append(s)\n",
    "X_dataset = array(X_dataset)\n",
    "Y_dataset = array(Y_dataset)"
   ]
  },
  {
   "cell_type": "code",
   "execution_count": 5,
   "metadata": {},
   "outputs": [],
   "source": [
    "class MultilayerPerceptron:\n",
    "    def __init__(self,hidden_layer,output_layer):\n",
    "        self.hidden_layer = hidden_layer\n",
    "        self.output_layer = output_layer\n",
    "    \n",
    "    \n",
    "    def activation_func(self,weight,data):\n",
    "        net = matmul(data.T,weight)\n",
    "        return (1-exp(-net*.01))/(1+exp(-net*.01))\n",
    "    \n",
    "    def calculate_oh(self,desired,actual):\n",
    "        return (desired-actual)*(1-actual**2)*.5\n",
    "    \n",
    "    def train(self,output_weight,hidden_weight,pattern,label,eta,emax):\n",
    "        count = 0\n",
    "        while True:\n",
    "            error = 0\n",
    "            for j in range(len(pattern)):\n",
    "                hidden_output = []\n",
    "                for i in range(self.hidden_layer):\n",
    "                    \n",
    "                    out = self.activation_func(hidden_weight[i],pattern[j])\n",
    "                    hidden_output.append(out)\n",
    "                hidden_output.append(-1)\n",
    "                hidden_output = array(hidden_output).reshape(self.hidden_layer+1,1)\n",
    "#                 print(hidden_output[i][0])\n",
    "                delta_out = array([])\n",
    "                for i in range(self.output_layer):\n",
    "#                     print(output_weight[:,i].shape,hidden_output.shape)\n",
    "                    out = self.activation_func(output_weight[:,i].reshape(len(hidden_output),1),hidden_output)\n",
    "                    error = error + 0.5*pow((label[j][i]-out),2)\n",
    "#                     print(out,label[j])\n",
    "#                     print(self.calculate_oh(label[j][i],out))\n",
    "                    delta_out = append(delta_out,self.calculate_oh(label[j][i],out))\n",
    "#                     print(delta_out)\n",
    "                delta_out = delta_out.reshape(self.output_layer,1)\n",
    "#                 print(delta_out)\n",
    "                delta_hid =[]\n",
    "                for i in range(self.hidden_layer):\n",
    "                    #print(delta_out.T.shape,output_weight[i].shape)\n",
    "                    #print(matmul(delta_out.T,output_weight[i].reshape(20,1)))\n",
    "#                     print(matmul(delta_out.T,output_weight[i].reshape(20,1))*.5*(1-hidden_output[i][0]**2))\n",
    "                    delta_hid.append(matmul(delta_out.T,output_weight[i].reshape(20,1))*.5*(1-hidden_output[i][0]**2))\n",
    "                #print(delta_hid)\n",
    "                delta_hid = array(delta_hid).reshape(self.hidden_layer,1)\n",
    "#                 print(delta_out.shape,hidden_output.shape)\n",
    "                output_weight += eta * matmul(hidden_output,delta_out.T)\n",
    "                x = pattern[j].reshape(1,len(pattern[j]))\n",
    "                hidden_weight += eta * matmul(delta_hid,x)\n",
    "                #print(f\"y :{hidden_output}\")\n",
    "            count += 1\n",
    "            print(error)\n",
    "            if error < emax:\n",
    "                print(f\"cycles completed: {count} \\n Hidden layer weights:\\n {hidden_weight}\\nOutput layer weights: \\n{output_weight}\\n\")\n",
    "                return\n",
    "\n",
    "\n",
    "if __name__ == \"__main__\":\n",
    "    neuron = MultilayerPerceptron(100,20)    \n",
    "    hidden = 2*random.random_sample((neuron.hidden_layer,len(X_dataset[0])))-1\n",
    "    output = 2*random.random_sample((neuron.hidden_layer+1,neuron.output_layer))-1   \n",
    "    pattern = array([[0,0,-1],[0,1,-1],[1,0,-1],[1,1,-1]],dtype=float)   \n",
    "    label = array([0,1,1,0])   \n",
    "    neuron.train(output,hidden,X_dataset,Y_dataset,.01,0.001)\n"
   ]
  },
  {
   "cell_type": "code",
   "execution_count": null,
   "metadata": {},
   "outputs": [],
   "source": []
  },
  {
   "cell_type": "code",
   "execution_count": 13,
   "metadata": {},
   "outputs": [],
   "source": []
  },
  {
   "cell_type": "code",
   "execution_count": null,
   "metadata": {},
   "outputs": [],
   "source": []
  }
 ],
 "metadata": {
  "kernelspec": {
   "display_name": "Python 3",
   "language": "python",
   "name": "python3"
  },
  "language_info": {
   "codemirror_mode": {
    "name": "ipython",
    "version": 3
   },
   "file_extension": ".py",
   "mimetype": "text/x-python",
   "name": "python",
   "nbconvert_exporter": "python",
   "pygments_lexer": "ipython3",
   "version": "3.6.5"
  }
 },
 "nbformat": 4,
 "nbformat_minor": 2
}
