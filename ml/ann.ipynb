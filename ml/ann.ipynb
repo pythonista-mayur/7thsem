{
 "cells": [
  {
   "cell_type": "code",
   "execution_count": 55,
   "metadata": {},
   "outputs": [
    {
     "name": "stdout",
     "output_type": "stream",
     "text": [
      "[[-5.65289500e-01]\n",
      " [-5.92208356e-01]\n",
      " [-8.66359235e-03]\n",
      " [-5.58759292e-01]\n",
      " [-4.38474711e-04]\n",
      " [-6.66062390e-02]\n",
      " [-5.17434177e-02]\n",
      " [-1.34764569e-08]\n",
      " [-2.31247103e-03]\n",
      " [ 2.88007938e-05]\n",
      " [-9.03551154e-07]\n",
      " [-1.00520758e-02]\n",
      " [-4.80175395e-03]\n",
      " [-5.76416444e-01]\n",
      " [-5.59285028e-01]\n",
      " [-3.27980216e-06]\n",
      " [-1.16549636e-01]\n",
      " [-3.83065793e-05]\n",
      " [-2.51452962e-01]\n",
      " [-5.88486979e-01]]\n",
      "(20, 1) (101, 20)\n"
     ]
    },
    {
     "ename": "ValueError",
     "evalue": "shapes (1,20) and (101,) not aligned: 20 (dim 1) != 101 (dim 0)",
     "output_type": "error",
     "traceback": [
      "\u001b[0;31m---------------------------------------------------------------------------\u001b[0m",
      "\u001b[0;31mValueError\u001b[0m                                Traceback (most recent call last)",
      "\u001b[0;32m<ipython-input-55-72bc01975efc>\u001b[0m in \u001b[0;36m<module>\u001b[0;34m()\u001b[0m\n\u001b[1;32m     63\u001b[0m     \u001b[0mpattern\u001b[0m \u001b[0;34m=\u001b[0m \u001b[0marray\u001b[0m\u001b[0;34m(\u001b[0m\u001b[0;34m[\u001b[0m\u001b[0;34m[\u001b[0m\u001b[0;36m0\u001b[0m\u001b[0;34m,\u001b[0m\u001b[0;36m0\u001b[0m\u001b[0;34m,\u001b[0m\u001b[0;34m-\u001b[0m\u001b[0;36m1\u001b[0m\u001b[0;34m]\u001b[0m\u001b[0;34m,\u001b[0m\u001b[0;34m[\u001b[0m\u001b[0;36m0\u001b[0m\u001b[0;34m,\u001b[0m\u001b[0;36m1\u001b[0m\u001b[0;34m,\u001b[0m\u001b[0;34m-\u001b[0m\u001b[0;36m1\u001b[0m\u001b[0;34m]\u001b[0m\u001b[0;34m,\u001b[0m\u001b[0;34m[\u001b[0m\u001b[0;36m1\u001b[0m\u001b[0;34m,\u001b[0m\u001b[0;36m0\u001b[0m\u001b[0;34m,\u001b[0m\u001b[0;34m-\u001b[0m\u001b[0;36m1\u001b[0m\u001b[0;34m]\u001b[0m\u001b[0;34m,\u001b[0m\u001b[0;34m[\u001b[0m\u001b[0;36m1\u001b[0m\u001b[0;34m,\u001b[0m\u001b[0;36m1\u001b[0m\u001b[0;34m,\u001b[0m\u001b[0;34m-\u001b[0m\u001b[0;36m1\u001b[0m\u001b[0;34m]\u001b[0m\u001b[0;34m]\u001b[0m\u001b[0;34m,\u001b[0m\u001b[0mdtype\u001b[0m\u001b[0;34m=\u001b[0m\u001b[0mfloat\u001b[0m\u001b[0;34m)\u001b[0m\u001b[0;34m\u001b[0m\u001b[0m\n\u001b[1;32m     64\u001b[0m     \u001b[0mlabel\u001b[0m \u001b[0;34m=\u001b[0m \u001b[0marray\u001b[0m\u001b[0;34m(\u001b[0m\u001b[0;34m[\u001b[0m\u001b[0;36m0\u001b[0m\u001b[0;34m,\u001b[0m\u001b[0;36m1\u001b[0m\u001b[0;34m,\u001b[0m\u001b[0;36m1\u001b[0m\u001b[0;34m,\u001b[0m\u001b[0;36m0\u001b[0m\u001b[0;34m]\u001b[0m\u001b[0;34m)\u001b[0m\u001b[0;34m\u001b[0m\u001b[0m\n\u001b[0;32m---> 65\u001b[0;31m     \u001b[0mneuron\u001b[0m\u001b[0;34m.\u001b[0m\u001b[0mtrain\u001b[0m\u001b[0;34m(\u001b[0m\u001b[0moutput\u001b[0m\u001b[0;34m,\u001b[0m\u001b[0mhidden\u001b[0m\u001b[0;34m,\u001b[0m\u001b[0mX_dataset\u001b[0m\u001b[0;34m,\u001b[0m\u001b[0mY_dataset\u001b[0m\u001b[0;34m,\u001b[0m\u001b[0;36m1\u001b[0m\u001b[0;34m,\u001b[0m\u001b[0;36m0.001\u001b[0m\u001b[0;34m)\u001b[0m\u001b[0;34m\u001b[0m\u001b[0m\n\u001b[0m",
      "\u001b[0;32m<ipython-input-55-72bc01975efc>\u001b[0m in \u001b[0;36mtrain\u001b[0;34m(self, output_weight, hidden_weight, pattern, label, eta, emax)\u001b[0m\n\u001b[1;32m     44\u001b[0m                 \u001b[0;32mfor\u001b[0m \u001b[0mi\u001b[0m \u001b[0;32min\u001b[0m \u001b[0mrange\u001b[0m\u001b[0;34m(\u001b[0m\u001b[0mself\u001b[0m\u001b[0;34m.\u001b[0m\u001b[0mhidden_layer\u001b[0m\u001b[0;34m)\u001b[0m\u001b[0;34m:\u001b[0m\u001b[0;34m\u001b[0m\u001b[0m\n\u001b[1;32m     45\u001b[0m                     \u001b[0mprint\u001b[0m\u001b[0;34m(\u001b[0m\u001b[0mdelta_out\u001b[0m\u001b[0;34m.\u001b[0m\u001b[0mshape\u001b[0m\u001b[0;34m,\u001b[0m\u001b[0moutput_weight\u001b[0m\u001b[0;34m.\u001b[0m\u001b[0mshape\u001b[0m\u001b[0;34m)\u001b[0m\u001b[0;34m\u001b[0m\u001b[0m\n\u001b[0;32m---> 46\u001b[0;31m                     \u001b[0mdelta_hid\u001b[0m \u001b[0;34m=\u001b[0m \u001b[0mappend\u001b[0m\u001b[0;34m(\u001b[0m\u001b[0mdelta_hid\u001b[0m\u001b[0;34m,\u001b[0m\u001b[0mmatmul\u001b[0m\u001b[0;34m(\u001b[0m\u001b[0mdelta_out\u001b[0m\u001b[0;34m.\u001b[0m\u001b[0mT\u001b[0m\u001b[0;34m,\u001b[0m\u001b[0moutput_weight\u001b[0m\u001b[0;34m.\u001b[0m\u001b[0mT\u001b[0m\u001b[0;34m[\u001b[0m\u001b[0mi\u001b[0m\u001b[0;34m]\u001b[0m\u001b[0;34m)\u001b[0m\u001b[0;34m*\u001b[0m\u001b[0;36m.5\u001b[0m\u001b[0;34m*\u001b[0m\u001b[0;34m(\u001b[0m\u001b[0;36m1\u001b[0m\u001b[0;34m-\u001b[0m\u001b[0mhidden_output\u001b[0m\u001b[0;34m[\u001b[0m\u001b[0mi\u001b[0m\u001b[0;34m]\u001b[0m\u001b[0;34m**\u001b[0m\u001b[0;36m2\u001b[0m\u001b[0;34m)\u001b[0m\u001b[0;34m,\u001b[0m\u001b[0maxis\u001b[0m\u001b[0;34m=\u001b[0m\u001b[0;36m0\u001b[0m\u001b[0;34m)\u001b[0m\u001b[0;34m\u001b[0m\u001b[0m\n\u001b[0m\u001b[1;32m     47\u001b[0m                 \u001b[0mdelta_hid\u001b[0m \u001b[0;34m=\u001b[0m \u001b[0mdelta_hid\u001b[0m\u001b[0;34m.\u001b[0m\u001b[0mreshape\u001b[0m\u001b[0;34m(\u001b[0m\u001b[0mself\u001b[0m\u001b[0;34m.\u001b[0m\u001b[0mhidden_layer\u001b[0m\u001b[0;34m,\u001b[0m\u001b[0;36m1\u001b[0m\u001b[0;34m)\u001b[0m\u001b[0;34m\u001b[0m\u001b[0m\n\u001b[1;32m     48\u001b[0m                 \u001b[0moutput_weight\u001b[0m \u001b[0;34m+=\u001b[0m \u001b[0meta\u001b[0m \u001b[0;34m*\u001b[0m \u001b[0mmatmul\u001b[0m\u001b[0;34m(\u001b[0m\u001b[0mdelta_out\u001b[0m\u001b[0;34m,\u001b[0m\u001b[0mhidden_output\u001b[0m\u001b[0;34m.\u001b[0m\u001b[0mT\u001b[0m\u001b[0;34m)\u001b[0m\u001b[0;34m\u001b[0m\u001b[0m\n",
      "\u001b[0;31mValueError\u001b[0m: shapes (1,20) and (101,) not aligned: 20 (dim 1) != 101 (dim 0)"
     ]
    }
   ],
   "source": [
    "from matplotlib.image import imread\n",
    "from numpy import array,full,matmul,append,random\n",
    "from os import listdir as ls\n",
    "from regex import search\n",
    "from math import exp\n",
    "   \n",
    "class MultilayerPerceptron:\n",
    "    def __init__(self,hidden_layer,output_layer):\n",
    "        self.hidden_layer = hidden_layer\n",
    "        self.output_layer = output_layer\n",
    "    \n",
    "    \n",
    "    def activation_func(self,weight,data):\n",
    "        net = matmul(data.T,weight)\n",
    "        return (1-exp(-net))/(1+exp(-net))\n",
    "    \n",
    "    def calculate_oh(self,desired,actual):\n",
    "        return (desired-actual)*(1-actual**2)*.5\n",
    "    \n",
    "    def train(self,output_weight,hidden_weight,pattern,label,eta,emax):\n",
    "        count = 0\n",
    "        while count<1:\n",
    "            error = 0\n",
    "            for j in range(len(pattern)):\n",
    "                hidden_output = []\n",
    "                for i in range(self.hidden_layer):\n",
    "                    \n",
    "                    out = self.activation_func(hidden_weight[i],pattern[j])\n",
    "                    hidden_output.append(out)\n",
    "                hidden_output.append(-1)\n",
    "                hidden_output = array(hidden_output).reshape(self.hidden_layer+1,1)\n",
    "                delta_out = array([])\n",
    "                for i in range(self.output_layer):\n",
    "#                     print(output_weight[:,i].shape,hidden_output.shape)\n",
    "                    out = self.activation_func(output_weight[:,i].reshape(len(hidden_output),1),hidden_output)\n",
    "                    error = error + 0.5*pow((label[j]-out),2)\n",
    "#                     print(out,label[j])\n",
    "#                     print(self.calculate_oh(label[j][i],out))\n",
    "                    delta_out = append(delta_out,self.calculate_oh(label[j][i],out))\n",
    "#                     print(delta_out)\n",
    "                delta_out = delta_out.reshape(self.output_layer,1)\n",
    "                print(delta_out)\n",
    "                delta_hid = array([])\n",
    "                for i in range(self.hidden_layer):\n",
    "                    print(delta_out.shape,output_weight.shape)\n",
    "                    delta_hid = append(delta_hid,matmul(delta_out.T,output_weight.T[i])*.5*(1-hidden_output[i]**2),axis=0)\n",
    "                delta_hid = delta_hid.reshape(self.hidden_layer,1)\n",
    "                output_weight += eta * matmul(delta_out,hidden_output.T)\n",
    "                x = pattern[j].reshape(1,len(pattern[j]))\n",
    "                hidden_weight += eta * matmul(delta_hid,x)\n",
    "                #print(f\"y :{hidden_output}\")\n",
    "            count += 1\n",
    "            print(error)\n",
    "            if error < emax:\n",
    "                print(f\"cycles completed: {count} \\n Hidden layer weights:\\n {hidden_weight}\\nOutput layer weights: \\n{output_weight}\\n\")\n",
    "                return\n",
    "\n",
    "\n",
    "if __name__ == \"__main__\":\n",
    "    neuron = MultilayerPerceptron(100,20)    \n",
    "    hidden = 2*random.random_sample((100,16385))-1\n",
    "    output = 2*random.random_sample((101,20))-1   \n",
    "    pattern = array([[0,0,-1],[0,1,-1],[1,0,-1],[1,1,-1]],dtype=float)   \n",
    "    label = array([0,1,1,0])   \n",
    "    neuron.train(output,hidden,X_dataset,Y_dataset,1,0.001)\n"
   ]
  },
  {
   "cell_type": "code",
   "execution_count": 10,
   "metadata": {},
   "outputs": [
    {
     "name": "stdout",
     "output_type": "stream",
     "text": [
      "[ 0.  0.  0. ...  0.  0. -1.]\n",
      "[-1 -1 -1 -1 -1 -1 -1 -1 -1  1 -1 -1 -1 -1 -1 -1 -1 -1 -1 -1]\n"
     ]
    }
   ],
   "source": [
    "X_dataset = list()\n",
    "Y_dataset = list()\n",
    "for img in ls(\"./coil-20-proc/\"):\n",
    "\tim = imread(\"./coil-20-proc/\"+img)\n",
    "\tim = im.reshape(16384)\n",
    "\tim = append(im,-1)    \n",
    "\tX_dataset.append(im)\n",
    "\tresult = search('obj(.*?)_', img)\n",
    "\ts=full(20,-1)\n",
    "\ts[int(result[1])-1]=1\n",
    "\tY_dataset.append(s)\n",
    "print((X_dataset[0]))\n",
    "print((Y_dataset[0]))"
   ]
  },
  {
   "cell_type": "code",
   "execution_count": 13,
   "metadata": {},
   "outputs": [],
   "source": [
    "output = 2*random.random_sample((100,16835))-1\n",
    "hidden = 2*random.random_sample((101,10))-1"
   ]
  },
  {
   "cell_type": "code",
   "execution_count": null,
   "metadata": {},
   "outputs": [],
   "source": []
  }
 ],
 "metadata": {
  "kernelspec": {
   "display_name": "Python 3",
   "language": "python",
   "name": "python3"
  },
  "language_info": {
   "codemirror_mode": {
    "name": "ipython",
    "version": 3
   },
   "file_extension": ".py",
   "mimetype": "text/x-python",
   "name": "python",
   "nbconvert_exporter": "python",
   "pygments_lexer": "ipython3",
   "version": "3.6.5"
  }
 },
 "nbformat": 4,
 "nbformat_minor": 2
}
