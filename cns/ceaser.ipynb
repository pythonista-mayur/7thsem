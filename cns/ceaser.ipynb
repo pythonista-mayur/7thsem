{
 "cells": [
  {
   "cell_type": "code",
   "execution_count": 13,
   "metadata": {},
   "outputs": [
    {
     "name": "stdin",
     "output_type": "stream",
     "text": [
      "enter text and key: sigam 26\n"
     ]
    },
    {
     "name": "stdout",
     "output_type": "stream",
     "text": [
      "cipher text is sigam\n"
     ]
    },
    {
     "data": {
      "text/plain": [
       "'sigam'"
      ]
     },
     "execution_count": 13,
     "metadata": {},
     "output_type": "execute_result"
    }
   ],
   "source": [
    "indes = dict()\n",
    "for x,i in enumerate(range(97,123)):\n",
    "    indes[chr(i)] = x\n",
    "def dict_key(dic,value):\n",
    "    for data,name  in dic.items():\n",
    "        if name == value:\n",
    "            return data    \n",
    "def ceaser(text, key,decrypt=False):\n",
    "    if decrypt:\n",
    "        key = -key\n",
    "    cipher =''.join([dict_key(indes,(indes[x]+key)%26)  for x in text])\n",
    "    return cipher\n",
    "text,key = input(\"enter text and key:\").split()\n",
    "# key = input(\"enter the key:\")\n",
    "cipher = ceaser(text,int(key))\n",
    "print(f\"cipher text is {cipher}\")\n",
    "ceaser(cipher,int(key),decrypt=True)"
   ]
  },
  {
   "cell_type": "code",
   "execution_count": null,
   "metadata": {},
   "outputs": [],
   "source": []
  }
 ],
 "metadata": {
  "kernelspec": {
   "display_name": "Python 3",
   "language": "python",
   "name": "python3"
  },
  "language_info": {
   "codemirror_mode": {
    "name": "ipython",
    "version": 3
   },
   "file_extension": ".py",
   "mimetype": "text/x-python",
   "name": "python",
   "nbconvert_exporter": "python",
   "pygments_lexer": "ipython3",
   "version": "3.6.6"
  }
 },
 "nbformat": 4,
 "nbformat_minor": 2
}
