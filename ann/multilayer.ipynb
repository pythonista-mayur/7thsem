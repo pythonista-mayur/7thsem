{
 "cells": [
  {
   "cell_type": "code",
   "execution_count": 10,
   "metadata": {},
   "outputs": [],
   "source": [
    "from numpy import array,matmul,append\n",
    "from math import exp"
   ]
  },
  {
   "cell_type": "code",
   "execution_count": 4,
   "metadata": {},
   "outputs": [],
   "source": [
    "class MultilayerPerceptron:\n",
    "    def __init__(self,hidden_layer,output_layer):\n",
    "        self.hidden_layer = hiddden_layer\n",
    "        self.output_layer = output_layer\n",
    "    \n",
    "    \n",
    "    def activation_func(self,weight,data):\n",
    "        net = matmul(data,weight.T)\n",
    "        return (1-exp(-net))/(1+exp(-net))\n",
    "    \n",
    "    def calculate_oh(self,desired,actual):\n",
    "        \n",
    "    \n",
    "    def train(self,output_weight,hidden_weight,pattern,label):\n",
    "        error = 0\n",
    "        hidden_output = array([])\n",
    "        for i in range(len(self.hidden_layer)):\n",
    "            out = self.activation_func(hidden_weight[i],pattern)\n",
    "            append(hidden_output,[out],axis=0)\n",
    "        append(hidden_output,[-1],axis=0)\n",
    "        delta_out = \n",
    "        for i in range(len(self.output_layer)):\n",
    "            out = self.activation_func(output_weight[i],hidden_output)\n",
    "            error+=0.5*pow((label[i]-out),2)\n",
    "            \n",
    "            \n",
    "            "
   ]
  },
  {
   "cell_type": "code",
   "execution_count": 18,
   "metadata": {},
   "outputs": [],
   "source": [
    "x = array([])"
   ]
  },
  {
   "cell_type": "code",
   "execution_count": 21,
   "metadata": {},
   "outputs": [],
   "source": [
    "x =append(x,[2],axis=0)"
   ]
  },
  {
   "cell_type": "code",
   "execution_count": 22,
   "metadata": {},
   "outputs": [
    {
     "data": {
      "text/plain": [
       "array([1., 2.])"
      ]
     },
     "execution_count": 22,
     "metadata": {},
     "output_type": "execute_result"
    }
   ],
   "source": [
    "x"
   ]
  },
  {
   "cell_type": "code",
   "execution_count": null,
   "metadata": {},
   "outputs": [],
   "source": []
  }
 ],
 "metadata": {
  "kernelspec": {
   "display_name": "Python 3",
   "language": "python",
   "name": "python3"
  },
  "language_info": {
   "codemirror_mode": {
    "name": "ipython",
    "version": 3
   },
   "file_extension": ".py",
   "mimetype": "text/x-python",
   "name": "python",
   "nbconvert_exporter": "python",
   "pygments_lexer": "ipython3",
   "version": "3.6.5"
  }
 },
 "nbformat": 4,
 "nbformat_minor": 2
}
